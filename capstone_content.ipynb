{
 "cells": [
  {
   "cell_type": "markdown",
   "metadata": {},
   "source": [
    "<div style=\"float: right;\">\n",
    "<img hr width=\"40%\" src=\"http://static.wixstatic.com/media/d90f6c_6e807fca36354d06b524167b040d3315.jpg_srz_p_221_241_75_22_0.50_1.20_0.00_jpg_srz\">\n",
    "</div>\n",
    "<h1>Climate Change Risk Modeling</h1>\n",
    "<i>An overview of my Data Incubator Capstone Project</i>     \n",
    "\n",
    "---\n",
    "<h3>Description:</h3>\n",
    "<p>The earth is warming. The average temperature of our planet's land and ocean surfaces has risen steadily over the past century, and an overwhelming consensus of climate scientists argue that human activities (such as large-scale burning of fossil fuels) are actively contributing to this rise. There is, of course, much uncertainty concerning the specifics of how this rise will continue in the future, and resolving these details is critical to shaping effective policy, but it is a practical certainty that the coming century will see continued global temperature increases and associated rises in sea level. Inevitably, there will be consequences brought about by these changes which we must prepare to address, including the potential for increased episodes of extreme weather, drought, flooding, and economic instability. </p>    \n",
    "    \n",
    "<p>Much of the current debate about climate change policy centers on reductions in carbon emissions necessary to prevent further warming. However, this proposal seeks to address the more pragmatic question of how best to prepare our communities, at the local, state, and federal level, under the assumption that future temperature increases are no longer entirely preventable. In order to take explicit action, we must first identify the communities most vulnerable, which is the first aim of this proposal. The second aim of this proposal seeks to promote public awareness by communicating the current reality of global warming, and assessing the economic and humanitarian consequences that climate change has already effected over the course of the past century.</p>    \n",
    " \n",
    "\n",
    "\n",
    "<h3>Notes:</h3>\n",
    "<i>Current related Links</i>    \n",
    "[1] https://cds.nccs.nasa.gov/bioclim/    \n",
    "[2] http://www.psc.isr.umich.edu/dis/census/Features/tract2zip/    \n",
    "[3] https://www.gaslampmedia.com/download-zip-code-latitude-longitude-city-state-county-csv/     \n",
    "   \n",
    "   \n",
    "<h4>By Sam Thorpe</h4>\n",
    "<i>Updated January 06, 2015</i>  \n",
    "\n",
    "    \n",
    "---\n"
   ]
  },
  {
   "cell_type": "code",
   "execution_count": 1,
   "metadata": {
    "collapsed": false
   },
   "outputs": [],
   "source": [
    "# # Imports\n",
    "# -----------------------------------------------------|\n",
    "import numpy as np\n",
    "import scipy as sp\n",
    "import pandas as pd\n",
    "%matplotlib inline  "
   ]
  },
  {
   "cell_type": "markdown",
   "metadata": {
    "collapsed": true
   },
   "source": [
    "<h3>Aim 1.</h3>\n",
    "<i>Identification of U.S. communities most vulnerable to future climate change.</i>\n",
    "\n",
    "---\n",
    "Towards this aim I have acquired fine-scale projected climate-scenarios from the NASA Climate Model Data Service [1]. These data give projected changes in annual mean temperature and precipitation over the course of the coming century for a grid of latitude and longitude covering the contiguous United States, with extremely fine spatial resolution (~800m x 800m). In addition, I attained data concerning the median yearly household income for ~32,000 U.S. zip codes [2], under the assumption that poorer communities would have fewer resources for combating climate related threats, and would thus be higher priority for the allocation of state and federal resources. From these data I derived 40-year warming and drought related risk indices (denoted Rw, and Rd) for each zip code. Since the median yearly income across zip codes is highly skewed, I defined these indices as:\n",
    "\n",
    "Rw(zip) =  zscore(dW(zip)) – zscore(log(Income(zip)))    \n",
    "Rd(zip) = -zscore(dP(zip)) – zscore(log(Income(zip)))    \n",
    "\n",
    "Where dW and dP are the projected changes in warming and precipitation for each zip code, respectively, which were computed by finding the latitude and longitude on the down sampled NASA grid closest to the geographic center of each zip code [3], and averaging the projected changes over the years 2040 through 2050. The initial negative sign in the formula for Rd indicates that drought risk is associated with decreases in projected precipitation.\n",
    "\n",
    "---"
   ]
  },
  {
   "cell_type": "markdown",
   "metadata": {
    "collapsed": true
   },
   "source": [
    "<div style=\"float: center;\">\n",
    "<img hr width=\"90%\" src=\"https://static.wixstatic.com/media/d90f6c_740dd97eb38148fb95d280b130e9e6cb.jpg/v1/fill/w_490,h_293,al_c,q_75,usm_0.50_1.20_0.00/d90f6c_740dd97eb38148fb95d280b130e9e6cb.jpg\">\n",
    "</div>"
   ]
  },
  {
   "cell_type": "markdown",
   "metadata": {
    "collapsed": true
   },
   "source": [
    "Projected warming and precipitation changes (a, and b), as well as 40-year warming and drought risk indices (c, and d) interpolated across the United states. In all plots, dark red and dark blue indicate maximal and minimal values, respectively. Figure 1 shows that warming will be especially prevalent across the Midwest (1a), but that lower income communities more susceptible to warming risk (1b) are more distributed across the states, with notable clusters in Michigan and the deep South. Additionally, projected precipitation changes and associated drought risk indices indicate that California will be hit hard by changing climate, despite the fact that several Northern California zip codes have much higher than average median incomes."
   ]
  },
  {
   "cell_type": "markdown",
   "metadata": {},
   "source": [
    "<h3>Aim 2.</h3>\n",
    "<i>Assessing global temperature increase over the past century, and communicating its economic and humanitarian impact.</i>\n",
    "\n",
    "---\n",
    "Notes:\n"
   ]
  },
  {
   "cell_type": "code",
   "execution_count": null,
   "metadata": {
    "collapsed": true
   },
   "outputs": [],
   "source": []
  },
  {
   "cell_type": "code",
   "execution_count": null,
   "metadata": {
    "collapsed": true
   },
   "outputs": [],
   "source": []
  }
 ],
 "metadata": {
  "kernelspec": {
   "display_name": "Python 2",
   "language": "python",
   "name": "python2"
  },
  "language_info": {
   "codemirror_mode": {
    "name": "ipython",
    "version": 2
   },
   "file_extension": ".py",
   "mimetype": "text/x-python",
   "name": "python",
   "nbconvert_exporter": "python",
   "pygments_lexer": "ipython2",
   "version": "2.7.10"
  }
 },
 "nbformat": 4,
 "nbformat_minor": 0
}
